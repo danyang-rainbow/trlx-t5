{
 "cells": [
  {
   "cell_type": "code",
   "execution_count": 1,
   "metadata": {},
   "outputs": [],
   "source": [
    "data = open(\"/home/fuxi-common/songyouwei/data/raw/novel_valid.txt\").read()"
   ]
  },
  {
   "cell_type": "code",
   "execution_count": 4,
   "metadata": {},
   "outputs": [],
   "source": [
    "import re\n",
    "import random\n",
    "\n",
    "def recong_speeches(line):\n",
    "        \n",
    "    pattern = re.compile(r\"“.*?”\")\n",
    "    \n",
    "    f = re.findall(pattern, line)\n",
    "    \n",
    "    if len(f) == 0:\n",
    "        return \"\",\"\"\n",
    "    \n",
    "    input_ = line[:line.rfind(f[-1])]+ \"“<C><extra_id_0><C>”\"\n",
    "    target = \"<extra_id_0>\" + f[-1][1:-1] + \"</s>\"\n",
    "    \n",
    "    prefix = random.randint(128,500)\n",
    "\n",
    "    input_ = input_[-prefix:]\n",
    "\n",
    "    return input_, target\n",
    "    f=re.finditer(pattern, line)\n",
    "    result = []\n",
    "    result_idx = []\n",
    "    for i in f:\n",
    "        result.append(line[i.start():i.end()])\n",
    "        result_idx.append(i.span())\n",
    "\n",
    "        \n",
    "\n",
    "\n",
    "with open(\"samples.tsv\", 'w') as f:\n",
    "    data_idx = 0\n",
    "    data_idx_max = len(data)\n",
    "    \n",
    "    while True:\n",
    "        tmpstring = data[data_idx:data_idx+512]\n",
    "        data_idx += 512\n",
    "        if data_idx > data_idx_max:\n",
    "            break\n",
    "        input_, output_ = recong_speeches(tmpstring)\n",
    "        if len(output_) <= 9:\n",
    "            continue\n",
    "        \n",
    "        f.write(input_.replace(\"\\t\", \"\").replace(\"\\n\", \"\")+\"\\t\"+output_.replace(\"\\t\", \"\").replace(\"\\n\", \"\")+\"\\n\")\n",
    "        \n",
    "        "
   ]
  }
 ],
 "metadata": {
  "kernelspec": {
   "display_name": "Python 3.10.8 ('trlx')",
   "language": "python",
   "name": "python3"
  },
  "language_info": {
   "codemirror_mode": {
    "name": "ipython",
    "version": 3
   },
   "file_extension": ".py",
   "mimetype": "text/x-python",
   "name": "python",
   "nbconvert_exporter": "python",
   "pygments_lexer": "ipython3",
   "version": "3.10.8"
  },
  "orig_nbformat": 4,
  "vscode": {
   "interpreter": {
    "hash": "81bfe8cd59f1d6063acea4e5d4ed5f161b6a75b01e488162257bdef9d9eeeccb"
   }
  }
 },
 "nbformat": 4,
 "nbformat_minor": 2
}
